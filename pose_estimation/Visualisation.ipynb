{
 "cells": [
  {
   "cell_type": "code",
   "execution_count": 5,
   "metadata": {},
   "outputs": [
    {
     "name": "stdout",
     "output_type": "stream",
     "text": [
      "Load a ply point cloud, print it, and render it\n",
      "PointCloud with 11017 points.\n",
      "[[0.1935     0.27149999 0.26550001]\n",
      " [0.1934     0.27149999 0.26550001]\n",
      " [0.1935     0.27149999 0.26550001]\n",
      " ...\n",
      " [0.2325     0.48750001 0.32570001]\n",
      " [0.2325     0.4905     0.32570001]\n",
      " [0.2325     0.49349999 0.3256    ]]\n"
     ]
    }
   ],
   "source": [
    "from open3d import *\n",
    "import copy\n",
    "\n",
    "mesh_path = 'Model3D/Pringles/Model.ply'\n",
    "\n",
    "#mesh_path = 'chef.pcd'\n",
    "#mesh_path = 'rs1.pcd'\n",
    "\n",
    "print(\"Load a ply point cloud, print it, and render it\")\n",
    "pcd = read_point_cloud(mesh_path)\n",
    "print(pcd)\n",
    "print(np.asarray(pcd.points))\n",
    "draw_geometries([pcd])"
   ]
  },
  {
   "cell_type": "code",
   "execution_count": null,
   "metadata": {},
   "outputs": [],
   "source": []
  }
 ],
 "metadata": {
  "kernelspec": {
   "display_name": "Python 3",
   "language": "python",
   "name": "python3"
  },
  "language_info": {
   "codemirror_mode": {
    "name": "ipython",
    "version": 3
   },
   "file_extension": ".py",
   "mimetype": "text/x-python",
   "name": "python",
   "nbconvert_exporter": "python",
   "pygments_lexer": "ipython3",
   "version": "3.5.2"
  }
 },
 "nbformat": 4,
 "nbformat_minor": 2
}
