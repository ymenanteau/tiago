{
 "cells": [
  {
   "cell_type": "code",
   "execution_count": 78,
   "metadata": {},
   "outputs": [],
   "source": [
    "import numpy as np\n",
    "import cv2\n",
    "from primesense import openni2\n",
    "from primesense import _openni2 as c_api"
   ]
  },
  {
   "cell_type": "code",
   "execution_count": 82,
   "metadata": {},
   "outputs": [],
   "source": [
    "def callback(x):\n",
    "    pass\n",
    "\n",
    "ilowH = 0\n",
    "ihighH = 179\n",
    "\n",
    "ilowS = 0\n",
    "ihighS = 255\n",
    "ilowV = 0\n",
    "ihighV = 255\n",
    "\n",
    "image_size_x = 1280 #640\n",
    "image_size_y = 960 #480\n",
    "\n",
    "image_centre_x = image_size_x // 2\n",
    "image_centre_y = image_size_y // 2\n",
    "\n",
    "\n",
    "default_w = 225\n",
    "default_h = 225\n",
    "\n",
    "default_pos_x = 225\n",
    "default_pos_y = 200\n",
    "\n",
    "kernel = np.ones((5,5),np.uint8)\n",
    "\n",
    "##Path to rgb save directory\n",
    "path_object = \"save_files/perrier/\""
   ]
  },
  {
   "cell_type": "code",
   "execution_count": 83,
   "metadata": {
    "scrolled": false
   },
   "outputs": [
    {
     "name": "stdout",
     "output_type": "stream",
     "text": [
      "openNI2 initialized\n"
     ]
    },
    {
     "ename": "OpenNIError",
     "evalue": "(OniStatus.ONI_STATUS_NOT_SUPPORTED, b'Stream setProperty(3) failed', None)",
     "output_type": "error",
     "traceback": [
      "\u001b[0;31m---------------------------------------------------------------------------\u001b[0m",
      "\u001b[0;31mOpenNIError\u001b[0m                               Traceback (most recent call last)",
      "\u001b[0;32m<ipython-input-83-8ec4582c9629>\u001b[0m in \u001b[0;36m<module>\u001b[0;34m\u001b[0m\n\u001b[1;32m     14\u001b[0m \u001b[0;31m## create the streams stream\u001b[0m\u001b[0;34m\u001b[0m\u001b[0;34m\u001b[0m\u001b[0m\n\u001b[1;32m     15\u001b[0m \u001b[0mrgb_stream\u001b[0m \u001b[0;34m=\u001b[0m \u001b[0mdev\u001b[0m\u001b[0;34m.\u001b[0m\u001b[0mcreate_color_stream\u001b[0m\u001b[0;34m(\u001b[0m\u001b[0;34m)\u001b[0m\u001b[0;34m\u001b[0m\u001b[0m\n\u001b[0;32m---> 16\u001b[0;31m \u001b[0mrgb_stream\u001b[0m\u001b[0;34m.\u001b[0m\u001b[0mset_video_mode\u001b[0m\u001b[0;34m(\u001b[0m\u001b[0mc_api\u001b[0m\u001b[0;34m.\u001b[0m\u001b[0mOniVideoMode\u001b[0m\u001b[0;34m(\u001b[0m\u001b[0mpixelFormat\u001b[0m \u001b[0;34m=\u001b[0m \u001b[0mc_api\u001b[0m\u001b[0;34m.\u001b[0m\u001b[0mOniPixelFormat\u001b[0m\u001b[0;34m.\u001b[0m\u001b[0mONI_PIXEL_FORMAT_RGB888\u001b[0m\u001b[0;34m,\u001b[0m \u001b[0mresolutionX\u001b[0m \u001b[0;34m=\u001b[0m \u001b[0mimage_size_x\u001b[0m\u001b[0;34m,\u001b[0m \u001b[0mresolutionY\u001b[0m \u001b[0;34m=\u001b[0m \u001b[0mimage_size_y\u001b[0m\u001b[0;34m,\u001b[0m \u001b[0mfps\u001b[0m \u001b[0;34m=\u001b[0m \u001b[0;36m30\u001b[0m\u001b[0;34m)\u001b[0m\u001b[0;34m)\u001b[0m\u001b[0;34m\u001b[0m\u001b[0m\n\u001b[0m\u001b[1;32m     17\u001b[0m \u001b[0;31m## Check and configure the mirroring -- default is True\u001b[0m\u001b[0;34m\u001b[0m\u001b[0;34m\u001b[0m\u001b[0m\n\u001b[1;32m     18\u001b[0m \u001b[0mrgb_stream\u001b[0m\u001b[0;34m.\u001b[0m\u001b[0mset_mirroring_enabled\u001b[0m\u001b[0;34m(\u001b[0m\u001b[0;32mFalse\u001b[0m\u001b[0;34m)\u001b[0m\u001b[0;34m\u001b[0m\u001b[0m\n",
      "\u001b[0;32m~/.local/lib/python3.5/site-packages/primesense/openni2.py\u001b[0m in \u001b[0;36mset_video_mode\u001b[0;34m(self, video_mode)\u001b[0m\n\u001b[1;32m    472\u001b[0m         \u001b[0;32mreturn\u001b[0m \u001b[0mself\u001b[0m\u001b[0;34m.\u001b[0m\u001b[0mget_property\u001b[0m\u001b[0;34m(\u001b[0m\u001b[0mc_api\u001b[0m\u001b[0;34m.\u001b[0m\u001b[0mONI_STREAM_PROPERTY_VIDEO_MODE\u001b[0m\u001b[0;34m,\u001b[0m \u001b[0mc_api\u001b[0m\u001b[0;34m.\u001b[0m\u001b[0mOniVideoMode\u001b[0m\u001b[0;34m)\u001b[0m\u001b[0;34m\u001b[0m\u001b[0m\n\u001b[1;32m    473\u001b[0m     \u001b[0;32mdef\u001b[0m \u001b[0mset_video_mode\u001b[0m\u001b[0;34m(\u001b[0m\u001b[0mself\u001b[0m\u001b[0;34m,\u001b[0m \u001b[0mvideo_mode\u001b[0m\u001b[0;34m)\u001b[0m\u001b[0;34m:\u001b[0m\u001b[0;34m\u001b[0m\u001b[0m\n\u001b[0;32m--> 474\u001b[0;31m         \u001b[0mself\u001b[0m\u001b[0;34m.\u001b[0m\u001b[0mset_property\u001b[0m\u001b[0;34m(\u001b[0m\u001b[0mc_api\u001b[0m\u001b[0;34m.\u001b[0m\u001b[0mONI_STREAM_PROPERTY_VIDEO_MODE\u001b[0m\u001b[0;34m,\u001b[0m \u001b[0mvideo_mode\u001b[0m\u001b[0;34m)\u001b[0m\u001b[0;34m\u001b[0m\u001b[0m\n\u001b[0m\u001b[1;32m    475\u001b[0m     \u001b[0mvideo_mode\u001b[0m \u001b[0;34m=\u001b[0m \u001b[0mproperty\u001b[0m\u001b[0;34m(\u001b[0m\u001b[0mget_video_mode\u001b[0m\u001b[0;34m,\u001b[0m \u001b[0mset_video_mode\u001b[0m\u001b[0;34m)\u001b[0m\u001b[0;34m\u001b[0m\u001b[0m\n\u001b[1;32m    476\u001b[0m     \u001b[0;32mdef\u001b[0m \u001b[0mconfigure_mode\u001b[0m\u001b[0;34m(\u001b[0m\u001b[0mself\u001b[0m\u001b[0;34m,\u001b[0m \u001b[0mwidth\u001b[0m\u001b[0;34m,\u001b[0m \u001b[0mheight\u001b[0m\u001b[0;34m,\u001b[0m \u001b[0mfps\u001b[0m\u001b[0;34m,\u001b[0m \u001b[0mpixel_format\u001b[0m\u001b[0;34m)\u001b[0m\u001b[0;34m:\u001b[0m\u001b[0;34m\u001b[0m\u001b[0m\n",
      "\u001b[0;32m~/.local/lib/python3.5/site-packages/primesense/openni2.py\u001b[0m in \u001b[0;36mset_property\u001b[0;34m(self, property_id, obj, size)\u001b[0m\n\u001b[1;32m    457\u001b[0m         \u001b[0;32mif\u001b[0m \u001b[0msize\u001b[0m \u001b[0;32mis\u001b[0m \u001b[0;32mNone\u001b[0m\u001b[0;34m:\u001b[0m\u001b[0;34m\u001b[0m\u001b[0m\n\u001b[1;32m    458\u001b[0m             \u001b[0msize\u001b[0m \u001b[0;34m=\u001b[0m \u001b[0mctypes\u001b[0m\u001b[0;34m.\u001b[0m\u001b[0msizeof\u001b[0m\u001b[0;34m(\u001b[0m\u001b[0mobj\u001b[0m\u001b[0;34m)\u001b[0m\u001b[0;34m\u001b[0m\u001b[0m\n\u001b[0;32m--> 459\u001b[0;31m         \u001b[0mc_api\u001b[0m\u001b[0;34m.\u001b[0m\u001b[0moniStreamSetProperty\u001b[0m\u001b[0;34m(\u001b[0m\u001b[0mself\u001b[0m\u001b[0;34m.\u001b[0m\u001b[0m_handle\u001b[0m\u001b[0;34m,\u001b[0m \u001b[0mproperty_id\u001b[0m\u001b[0;34m,\u001b[0m \u001b[0mctypes\u001b[0m\u001b[0;34m.\u001b[0m\u001b[0mbyref\u001b[0m\u001b[0;34m(\u001b[0m\u001b[0mobj\u001b[0m\u001b[0;34m)\u001b[0m\u001b[0;34m,\u001b[0m \u001b[0msize\u001b[0m\u001b[0;34m)\u001b[0m\u001b[0;34m\u001b[0m\u001b[0m\n\u001b[0m\u001b[1;32m    460\u001b[0m     \u001b[0;32mdef\u001b[0m \u001b[0mis_property_supported\u001b[0m\u001b[0;34m(\u001b[0m\u001b[0mself\u001b[0m\u001b[0;34m,\u001b[0m \u001b[0mproperty_id\u001b[0m\u001b[0;34m)\u001b[0m\u001b[0;34m:\u001b[0m\u001b[0;34m\u001b[0m\u001b[0m\n\u001b[1;32m    461\u001b[0m         \u001b[0;32mreturn\u001b[0m \u001b[0mbool\u001b[0m\u001b[0;34m(\u001b[0m\u001b[0mc_api\u001b[0m\u001b[0;34m.\u001b[0m\u001b[0moniStreamIsPropertySupported\u001b[0m\u001b[0;34m(\u001b[0m\u001b[0mself\u001b[0m\u001b[0;34m.\u001b[0m\u001b[0m_handle\u001b[0m\u001b[0;34m,\u001b[0m \u001b[0mproperty_id\u001b[0m\u001b[0;34m)\u001b[0m\u001b[0;34m)\u001b[0m\u001b[0;34m\u001b[0m\u001b[0m\n",
      "\u001b[0;32m~/.local/lib/python3.5/site-packages/primesense/_openni2.py\u001b[0m in \u001b[0;36mwrapper\u001b[0;34m(*args)\u001b[0m\n\u001b[1;32m   2100\u001b[0m             \u001b[0;32melse\u001b[0m\u001b[0;34m:\u001b[0m\u001b[0;34m\u001b[0m\u001b[0m\n\u001b[1;32m   2101\u001b[0m                 \u001b[0mlogfile\u001b[0m \u001b[0;34m=\u001b[0m \u001b[0;32mNone\u001b[0m\u001b[0;34m\u001b[0m\u001b[0m\n\u001b[0;32m-> 2102\u001b[0;31m             \u001b[0;32mraise\u001b[0m \u001b[0mOpenNIError\u001b[0m\u001b[0;34m(\u001b[0m\u001b[0mres\u001b[0m\u001b[0;34m,\u001b[0m \u001b[0mmsg\u001b[0m\u001b[0;34m.\u001b[0m\u001b[0mstrip\u001b[0m\u001b[0;34m(\u001b[0m\u001b[0;34m)\u001b[0m\u001b[0;34m,\u001b[0m \u001b[0mlogfile\u001b[0m\u001b[0;34m)\u001b[0m\u001b[0;34m\u001b[0m\u001b[0m\n\u001b[0m\u001b[1;32m   2103\u001b[0m         \u001b[0;32mreturn\u001b[0m \u001b[0mres\u001b[0m\u001b[0;34m\u001b[0m\u001b[0m\n\u001b[1;32m   2104\u001b[0m \u001b[0;34m\u001b[0m\u001b[0m\n",
      "\u001b[0;31mOpenNIError\u001b[0m: (OniStatus.ONI_STATUS_NOT_SUPPORTED, b'Stream setProperty(3) failed', None)"
     ]
    }
   ],
   "source": [
    "## Path of the OpenNI redistribution OpenNI2.so\n",
    "dist ='AstraSDK/lib/Plugins/openni2'\n",
    "\n",
    "## initialize openni and check\n",
    "openni2.initialize(dist) #'C:\\Program Files\\OpenNI2\\Redist\\OpenNI2.dll') # accepts the path of the OpenNI redistribution\n",
    "if (openni2.is_initialized()):\n",
    "    print (\"openNI2 initialized\")\n",
    "else:\n",
    "    print (\"openNI2 not initialized\")\n",
    "\n",
    "## Register the device\n",
    "dev = openni2.Device.open_any()\n",
    "\n",
    "## create the streams stream\n",
    "rgb_stream = dev.create_color_stream()\n",
    "rgb_stream.set_video_mode(c_api.OniVideoMode(pixelFormat = c_api.OniPixelFormat.ONI_PIXEL_FORMAT_RGB888, resolutionX = image_size_x, resolutionY = image_size_y, fps = 30))\n",
    "## Check and configure the mirroring -- default is True\n",
    "rgb_stream.set_mirroring_enabled(False)\n",
    "\n",
    "## start the stream\n",
    "rgb_stream.start()\n",
    "\n",
    "def get_rgb():\n",
    "    \"\"\"\n",
    "    Returns numpy 3L ndarray to represent the rgb image.\n",
    "    \"\"\"\n",
    "    bgr   = np.fromstring(rgb_stream.read_frame().get_buffer_as_uint8(),dtype=np.uint8).reshape(image_size_x, image_size_y,3)\n",
    "    rgb   = cv2.cvtColor(bgr,cv2.COLOR_BGR2RGB)\n",
    "    return rgb    \n",
    "#get_rgb\n",
    "\n",
    "cv2.namedWindow('image',cv2.WINDOW_NORMAL)\n",
    "cv2.resizeWindow('image', 1400,800)\n",
    "# create trackbars for color change\n",
    "cv2.createTrackbar('lowH','image',ilowH,179,callback)\n",
    "cv2.createTrackbar('highH','image',ihighH,179,callback)\n",
    "\n",
    "cv2.createTrackbar('lowS','image',ilowS,255,callback)\n",
    "cv2.createTrackbar('highS','image',ihighS,255,callback)\n",
    "\n",
    "cv2.createTrackbar('lowV','image',ilowV,255,callback)\n",
    "cv2.createTrackbar('highV','image',ihighV,255,callback)\n",
    "\n",
    "cv2.createTrackbar('Xpos','image',default_pos_x,image_size_x,callback)\n",
    "cv2.createTrackbar('Ypos','image',default_pos_y,image_size_y,callback)\n",
    "\n",
    "cv2.createTrackbar('Xcropping','image',default_w,image_size_x,callback)\n",
    "cv2.createTrackbar('Ycropping','image',default_h,image_size_y,callback)\n",
    "\n",
    "## main loop\n",
    "s=0\n",
    "done = False\n",
    "start_saving = False\n",
    "while not done:\n",
    "    key = cv2.waitKey(1) & 255\n",
    "    ## Read keystrokes\n",
    "    if key == 27: # terminate\n",
    "        print (\"\\tESC key detected!\")\n",
    "        done = True\n",
    "    elif chr(key) =='s': #screen capture\n",
    "        start_saving = True\n",
    "        print (\"\\ts key detected. Saving image and distance map {}\".format(s))\n",
    "    if (start_saving):\n",
    "        cv2.imwrite(\"\" + path_object + \"extracted/rgb_\"+str(s)+'.png', rgb_result)\n",
    "        cv2.imwrite(\"\" + path_object + \"mask/mask_\"+str(s)+'.png', mask)\n",
    "        cv2.imwrite(\"\" + path_object + \"result/result_\"+str(s)+'.png', result)\n",
    "        cv2.imwrite(\"\" + path_object + \"image_original/original_\"+str(s)+'.png', rgb)\n",
    "        s+=1\n",
    "    #if\n",
    "    \n",
    "    ## Streams\n",
    "    #RGB\n",
    "    rgb = get_rgb()\n",
    "    rgb = cv2.GaussianBlur(rgb, (5, 5), 0) # Remove noise\n",
    "    ##HSV cropping\n",
    "    \n",
    "    # get trackbar positions\n",
    "    ilowH = cv2.getTrackbarPos('lowH', 'image')\n",
    "    ihighH = cv2.getTrackbarPos('highH', 'image')\n",
    "    ilowS = cv2.getTrackbarPos('lowS', 'image')\n",
    "    ihighS = cv2.getTrackbarPos('highS', 'image')\n",
    "    ilowV = cv2.getTrackbarPos('lowV', 'image')\n",
    "    ihighV = cv2.getTrackbarPos('highV', 'image')\n",
    "    \n",
    "    xpos = cv2.getTrackbarPos('Xpos', 'image')\n",
    "    ypos = cv2.getTrackbarPos('Ypos', 'image')\n",
    "    \n",
    "    xcrop = cv2.getTrackbarPos('Xcropping', 'image')\n",
    "    ycrop = cv2.getTrackbarPos('Ycropping', 'image')\n",
    "\n",
    "    hsv = cv2.cvtColor(rgb, cv2.COLOR_BGR2HSV)\n",
    "    lower_hsv = np.array([ilowH, ilowS, ilowV])\n",
    "    higher_hsv = np.array([ihighH, ihighS, ihighV])\n",
    "    mask = cv2.inRange(hsv, lower_hsv, higher_hsv)\n",
    "\n",
    "    rgb_visu = cv2.bitwise_and(rgb, rgb, mask=mask)\n",
    "    rgb_cropped = rgb_visu.copy()\n",
    "    cv2.rectangle(rgb_visu, (xpos, ypos), (xpos+xcrop, ypos+ycrop), (0, 255, 0), 1);\n",
    "    \n",
    "    mask_rec = np.zeros(rgb_cropped.shape[:2],np.uint8)\n",
    "    mask_rec[ypos:ypos+ycrop,xpos:xpos+xcrop] = 255\n",
    "    rgb_masked = cv2.bitwise_and(rgb_cropped,rgb_cropped,mask = mask_rec)\n",
    "    # canvas\n",
    "    canvas = np.hstack((rgb,rgb_visu,rgb_masked))\n",
    "\n",
    "    ## Display the stream\n",
    "    cv2.imshow('image', canvas )\n",
    "    \n",
    "    rgb_cropped = rgb_visu[ypos:ypos+ycrop,xpos:xpos+xcrop]\n",
    "    rgb_result = rgb[ypos:ypos+ycrop,xpos:xpos+xcrop]\n",
    "    gray = cv2.cvtColor(rgb_cropped, cv2.COLOR_RGB2GRAY)\n",
    "    ret,thresh = cv2.threshold(gray,1,255,0)\n",
    "    thresh = cv2.dilate(thresh,kernel,iterations = 2) #Optional\n",
    "    thresh = cv2.erode(thresh,kernel,iterations = 3) #Optional\n",
    "    image, contours, heirarchy = cv2.findContours(thresh, cv2.RETR_TREE, cv2.CHAIN_APPROX_SIMPLE)\n",
    "    cnt = max(contours, key = cv2.contourArea)\n",
    "    cv2.drawContours(rgb_cropped, [cnt], 0, (0,255,0),2, cv2.LINE_AA, maxLevel=1)\n",
    "    \n",
    "    cv2.imshow('test',rgb_cropped)\n",
    "    cv2.imshow('thresh',thresh)\n",
    "    \n",
    "    refined_mask = np.zeros(rgb_cropped.shape,dtype='uint8')\n",
    "    refined_mask = cv2.drawContours(refined_mask, [cnt], -1, (255 , 255 , 255),thickness=cv2.FILLED)\n",
    "    #refined_mask = cv2.bitwise_not(refined_mask)\n",
    "    img2gray = cv2.cvtColor(refined_mask,cv2.COLOR_BGR2GRAY)\n",
    "    ret, mask = cv2.threshold(img2gray, 1, 255, cv2.THRESH_BINARY)\n",
    "    result= cv2.bitwise_and(rgb_result,rgb_result,mask=mask)\n",
    "    cv2.imshow('result',result)\n",
    "# end while\n",
    "\n",
    "## Release resources \n",
    "cv2.destroyAllWindows()\n",
    "#rgb_stream.stop()\n",
    "#openni2.unload()\n",
    "print (\"Terminated\")"
   ]
  },
  {
   "cell_type": "code",
   "execution_count": 81,
   "metadata": {},
   "outputs": [
    {
     "name": "stdout",
     "output_type": "stream",
     "text": [
      "OniVideoMode(pixelFormat = OniPixelFormat.ONI_PIXEL_FORMAT_RGB888, resolutionX = 1280, resolutionY = 960, fps = 30)\n"
     ]
    }
   ],
   "source": [
    "print(rgb_stream.get_video_mode())"
   ]
  },
  {
   "cell_type": "code",
   "execution_count": 71,
   "metadata": {
    "scrolled": true
   },
   "outputs": [],
   "source": [
    "rgb_stream.set_video_mode(c_api.OniVideoMode(pixelFormat = c_api.OniPixelFormat.ONI_PIXEL_FORMAT_RGB888, resolutionX = 1280, resolutionY = 960, fps = 30))"
   ]
  },
  {
   "cell_type": "code",
   "execution_count": 66,
   "metadata": {},
   "outputs": [
    {
     "name": "stdout",
     "output_type": "stream",
     "text": [
      "OniDeviceInfo(uri = b'2bc5/0401@1/11', vendor = b'Orbbec', name = b'Astra', usbVendorId = 11205, usbProductId = 1025)\n",
      "IR <primesense.openni2.SensorInfo object at 0x7f7fad6ed7f0>\n",
      "DEPTH <primesense.openni2.SensorInfo object at 0x7f7fad6edf28>\n",
      "COLOR <primesense.openni2.SensorInfo object at 0x7f7fad6edba8>\n"
     ]
    }
   ],
   "source": [
    "openni2.initialize()\n",
    "\n",
    "d = openni2.Device.open_any()\n",
    "print (d.get_device_info())\n",
    "\n",
    "print (\"IR\", d.get_sensor_info(openni2.SENSOR_IR))\n",
    "print (\"DEPTH\", d.get_sensor_info(openni2.SENSOR_DEPTH))\n",
    "print (\"COLOR\", d.get_sensor_info(openni2.SENSOR_COLOR))"
   ]
  },
  {
   "cell_type": "code",
   "execution_count": 68,
   "metadata": {},
   "outputs": [],
   "source": [
    "data = d.get_sensor_info(openni2.SENSOR_COLOR)"
   ]
  },
  {
   "cell_type": "code",
   "execution_count": 70,
   "metadata": {},
   "outputs": [
    {
     "data": {
      "text/plain": [
       "{'sensorType': OniSensorType.ONI_SENSOR_COLOR,\n",
       " 'videoModes': [OniVideoMode(pixelFormat = OniPixelFormat.ONI_PIXEL_FORMAT_RGB888, resolutionX = 320, resolutionY = 240, fps = 30),\n",
       "  OniVideoMode(pixelFormat = OniPixelFormat.ONI_PIXEL_FORMAT_YUV422, resolutionX = 320, resolutionY = 240, fps = 30),\n",
       "  OniVideoMode(pixelFormat = OniPixelFormat.ONI_PIXEL_FORMAT_YUYV, resolutionX = 320, resolutionY = 240, fps = 30),\n",
       "  OniVideoMode(pixelFormat = OniPixelFormat.ONI_PIXEL_FORMAT_RGB888, resolutionX = 320, resolutionY = 240, fps = 15),\n",
       "  OniVideoMode(pixelFormat = OniPixelFormat.ONI_PIXEL_FORMAT_YUV422, resolutionX = 320, resolutionY = 240, fps = 15),\n",
       "  OniVideoMode(pixelFormat = OniPixelFormat.ONI_PIXEL_FORMAT_YUYV, resolutionX = 320, resolutionY = 240, fps = 15),\n",
       "  OniVideoMode(pixelFormat = OniPixelFormat.ONI_PIXEL_FORMAT_RGB888, resolutionX = 320, resolutionY = 240, fps = 60),\n",
       "  OniVideoMode(pixelFormat = OniPixelFormat.ONI_PIXEL_FORMAT_YUV422, resolutionX = 320, resolutionY = 240, fps = 60),\n",
       "  OniVideoMode(pixelFormat = OniPixelFormat.ONI_PIXEL_FORMAT_YUYV, resolutionX = 320, resolutionY = 240, fps = 60),\n",
       "  OniVideoMode(pixelFormat = OniPixelFormat.ONI_PIXEL_FORMAT_RGB888, resolutionX = 640, resolutionY = 480, fps = 30),\n",
       "  OniVideoMode(pixelFormat = OniPixelFormat.ONI_PIXEL_FORMAT_YUV422, resolutionX = 640, resolutionY = 480, fps = 30),\n",
       "  OniVideoMode(pixelFormat = OniPixelFormat.ONI_PIXEL_FORMAT_YUYV, resolutionX = 640, resolutionY = 480, fps = 30),\n",
       "  OniVideoMode(pixelFormat = OniPixelFormat.ONI_PIXEL_FORMAT_RGB888, resolutionX = 1280, resolutionY = 720, fps = 30),\n",
       "  OniVideoMode(pixelFormat = OniPixelFormat.ONI_PIXEL_FORMAT_GRAY8, resolutionX = 1280, resolutionY = 720, fps = 30),\n",
       "  OniVideoMode(pixelFormat = OniPixelFormat.ONI_PIXEL_FORMAT_RGB888, resolutionX = 1280, resolutionY = 960, fps = 30),\n",
       "  OniVideoMode(pixelFormat = OniPixelFormat.ONI_PIXEL_FORMAT_YUV422, resolutionX = 1280, resolutionY = 960, fps = 30)]}"
      ]
     },
     "execution_count": 70,
     "metadata": {},
     "output_type": "execute_result"
    }
   ],
   "source": [
    "data.__dict__"
   ]
  },
  {
   "cell_type": "code",
   "execution_count": null,
   "metadata": {},
   "outputs": [],
   "source": []
  }
 ],
 "metadata": {
  "kernelspec": {
   "display_name": "Python 3",
   "language": "python",
   "name": "python3"
  },
  "language_info": {
   "codemirror_mode": {
    "name": "ipython",
    "version": 3
   },
   "file_extension": ".py",
   "mimetype": "text/x-python",
   "name": "python",
   "nbconvert_exporter": "python",
   "pygments_lexer": "ipython3",
   "version": "3.5.2"
  }
 },
 "nbformat": 4,
 "nbformat_minor": 2
}
