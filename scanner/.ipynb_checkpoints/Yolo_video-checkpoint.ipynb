{
 "cells": [
  {
   "cell_type": "code",
   "execution_count": 4,
   "metadata": {},
   "outputs": [
    {
     "name": "stderr",
     "output_type": "stream",
     "text": [
      "Using TensorFlow backend.\n"
     ]
    }
   ],
   "source": [
    "import sys\n",
    "import argparse\n",
    "from yolo import *\n",
    "import os\n",
    "from PIL import Image\n",
    "import matplotlib\n",
    "import numpy as np\n",
    "import matplotlib.pyplot as plt\n",
    "%matplotlib inline  \n",
    "from IPython.display import Image as Show"
   ]
  },
  {
   "cell_type": "code",
   "execution_count": 2,
   "metadata": {},
   "outputs": [],
   "source": [
    "model_path = 'model_data/trained_weights_final.h5'\n",
    "anchors_path = 'model_data/yolo_anchors.txt'\n",
    "\n",
    "tiny_model_path = 'model_data/tiny_yolo.h5'\n",
    "tiny_anchors_path = 'model_data/tiny_yolo_anchors.txt'\n",
    "\n",
    "classes_path = 'model_data/classes.txt'"
   ]
  },
  {
   "cell_type": "code",
   "execution_count": 5,
   "metadata": {},
   "outputs": [
    {
     "name": "stdout",
     "output_type": "stream",
     "text": [
      "model_data/trained_weights_final.h5 model, anchors, and classes loaded.\n"
     ]
    }
   ],
   "source": [
    "YOLO_v3 = YOLO(model_path,classes_path,anchors_path)"
   ]
  },
  {
   "cell_type": "code",
   "execution_count": 9,
   "metadata": {},
   "outputs": [
    {
     "name": "stdout",
     "output_type": "stream",
     "text": [
      "openNI2 initialized\n"
     ]
    },
    {
     "name": "stderr",
     "output_type": "stream",
     "text": [
      "/home/jeremy/.local/lib/python3.5/site-packages/ipykernel_launcher.py:44: DeprecationWarning: The binary mode of fromstring is deprecated, as it behaves surprisingly on unicode inputs. Use frombuffer instead\n"
     ]
    },
    {
     "ename": "ValueError",
     "evalue": "cannot reshape array of size 3686400 into shape (640,480,3)",
     "output_type": "error",
     "traceback": [
      "\u001b[0;31m---------------------------------------------------------------------------\u001b[0m",
      "\u001b[0;31mValueError\u001b[0m                                Traceback (most recent call last)",
      "\u001b[0;32m<ipython-input-9-03cd16d473d7>\u001b[0m in \u001b[0;36m<module>\u001b[0;34m\u001b[0m\n\u001b[1;32m     63\u001b[0m     \u001b[0;31m## Streams\u001b[0m\u001b[0;34m\u001b[0m\u001b[0;34m\u001b[0m\u001b[0m\n\u001b[1;32m     64\u001b[0m     \u001b[0;31m#RGB\u001b[0m\u001b[0;34m\u001b[0m\u001b[0;34m\u001b[0m\u001b[0m\n\u001b[0;32m---> 65\u001b[0;31m     \u001b[0mrgb\u001b[0m \u001b[0;34m=\u001b[0m \u001b[0mget_rgb\u001b[0m\u001b[0;34m(\u001b[0m\u001b[0;34m)\u001b[0m\u001b[0;34m\u001b[0m\u001b[0m\n\u001b[0m\u001b[1;32m     66\u001b[0m \u001b[0;34m\u001b[0m\u001b[0m\n\u001b[1;32m     67\u001b[0m     \u001b[0;31m# canvas\u001b[0m\u001b[0;34m\u001b[0m\u001b[0;34m\u001b[0m\u001b[0m\n",
      "\u001b[0;32m<ipython-input-9-03cd16d473d7>\u001b[0m in \u001b[0;36mget_rgb\u001b[0;34m()\u001b[0m\n\u001b[1;32m     42\u001b[0m     \u001b[0mReturns\u001b[0m \u001b[0mnumpy\u001b[0m \u001b[0;36m3\u001b[0m\u001b[0mL\u001b[0m \u001b[0mndarray\u001b[0m \u001b[0mto\u001b[0m \u001b[0mrepresent\u001b[0m \u001b[0mthe\u001b[0m \u001b[0mrgb\u001b[0m \u001b[0mimage\u001b[0m\u001b[0;34m.\u001b[0m\u001b[0;34m\u001b[0m\u001b[0m\n\u001b[1;32m     43\u001b[0m     \"\"\"\n\u001b[0;32m---> 44\u001b[0;31m     \u001b[0mbgr\u001b[0m   \u001b[0;34m=\u001b[0m \u001b[0mnp\u001b[0m\u001b[0;34m.\u001b[0m\u001b[0mfromstring\u001b[0m\u001b[0;34m(\u001b[0m\u001b[0mrgb_stream\u001b[0m\u001b[0;34m.\u001b[0m\u001b[0mread_frame\u001b[0m\u001b[0;34m(\u001b[0m\u001b[0;34m)\u001b[0m\u001b[0;34m.\u001b[0m\u001b[0mget_buffer_as_uint8\u001b[0m\u001b[0;34m(\u001b[0m\u001b[0;34m)\u001b[0m\u001b[0;34m,\u001b[0m\u001b[0mdtype\u001b[0m\u001b[0;34m=\u001b[0m\u001b[0mnp\u001b[0m\u001b[0;34m.\u001b[0m\u001b[0muint8\u001b[0m\u001b[0;34m)\u001b[0m\u001b[0;34m.\u001b[0m\u001b[0mreshape\u001b[0m\u001b[0;34m(\u001b[0m\u001b[0;36m640\u001b[0m\u001b[0;34m,\u001b[0m \u001b[0;36m480\u001b[0m\u001b[0;34m,\u001b[0m\u001b[0;36m3\u001b[0m\u001b[0;34m)\u001b[0m\u001b[0;34m\u001b[0m\u001b[0m\n\u001b[0m\u001b[1;32m     45\u001b[0m     \u001b[0mrgb\u001b[0m   \u001b[0;34m=\u001b[0m \u001b[0mcv2\u001b[0m\u001b[0;34m.\u001b[0m\u001b[0mcvtColor\u001b[0m\u001b[0;34m(\u001b[0m\u001b[0mbgr\u001b[0m\u001b[0;34m,\u001b[0m\u001b[0mcv2\u001b[0m\u001b[0;34m.\u001b[0m\u001b[0mCOLOR_BGR2RGB\u001b[0m\u001b[0;34m)\u001b[0m\u001b[0;34m\u001b[0m\u001b[0m\n\u001b[1;32m     46\u001b[0m     \u001b[0;32mreturn\u001b[0m \u001b[0mrgb\u001b[0m\u001b[0;34m\u001b[0m\u001b[0m\n",
      "\u001b[0;31mValueError\u001b[0m: cannot reshape array of size 3686400 into shape (640,480,3)"
     ]
    }
   ],
   "source": [
    "\n",
    "import numpy as np\n",
    "import cv2\n",
    "from primesense import openni2\n",
    "from primesense import _openni2 as c_api\n",
    "\n",
    "\n",
    "\n",
    "##Path to rgb save directory\n",
    "path_rgb = \"save_files/scene/rgb/\"\n",
    "##Path to depth save directory\n",
    "path_depth = \"save_files/scene/depth/\"\n",
    "\n",
    "## Path of the OpenNI redistribution OpenNI2.so\n",
    "dist ='AstraSDK/lib/Plugins/openni2'\n",
    "\n",
    "## initialize openni and check\n",
    "openni2.initialize(dist) #'C:\\Program Files\\OpenNI2\\Redist\\OpenNI2.dll') # accepts the path of the OpenNI redistribution\n",
    "if (openni2.is_initialized()):\n",
    "    print (\"openNI2 initialized\")\n",
    "else:\n",
    "    print (\"openNI2 not initialized\")\n",
    "\n",
    "## Register the device\n",
    "dev = openni2.Device.open_any()\n",
    "\n",
    "## create the streams stream\n",
    "rgb_stream = dev.create_color_stream()\n",
    "#rgb_stream.set_video_mode(c_api.OniVideoMode(pixelFormat = c_api.OniPixelFormat.ONI_PIXEL_FORMAT_RGB888, resolutionX = 1280, resolutionY = 960, fps = 30))\n",
    "rgb_stream.set_property(c_api.ONI_STREAM_PROPERTY_AUTO_EXPOSURE, True)\n",
    "\n",
    "## Check and configure the mirroring -- default is True\n",
    "# print 'Mirroring info1', depth_stream.get_mirroring_enabled()\n",
    "rgb_stream.set_mirroring_enabled(False)\n",
    "\n",
    "\n",
    "## start the stream\n",
    "rgb_stream.start()\n",
    "\n",
    "def get_rgb():\n",
    "    \"\"\"\n",
    "    Returns numpy 3L ndarray to represent the rgb image.\n",
    "    \"\"\"\n",
    "    bgr   = np.fromstring(rgb_stream.read_frame().get_buffer_as_uint8(),dtype=np.uint8).reshape(640, 480,3)\n",
    "    rgb   = cv2.cvtColor(bgr,cv2.COLOR_BGR2RGB)\n",
    "    return rgb    \n",
    "\n",
    "\n",
    "s=0\n",
    "done = False\n",
    "while not done:\n",
    "    key = cv2.waitKey(1) & 255\n",
    "    ## Read keystrokes\n",
    "    if key == 27: # terminate\n",
    "        print (\"\\tESC key detected!\")\n",
    "        done = True\n",
    "    elif chr(key) =='s': #screen capture\n",
    "        print (\"\\ts key detected. Saving image and distance map {}\".format(s))\n",
    "        cv2.imwrite(\"\" + path_rgb + \"rgb_\"+str(s)+'.png', rgb)\n",
    "        s+=1\n",
    "    #if\n",
    "    \n",
    "    ## Streams\n",
    "    #RGB\n",
    "    rgb = get_rgb()\n",
    "\n",
    "    # canvas\n",
    "    canvas = np.hstack((rgb,rgb))\n",
    "    \n",
    "    ## Distance map\n",
    "    #print ('Center pixel is {} mm away'.format(dmap[119,159]))\n",
    "\n",
    "    ## Display the stream\n",
    "    cv2.imshow('rgb',rgb )\n",
    "# end while\n",
    "\n",
    "## Release resources \n",
    "cv2.destroyAllWindows()\n",
    "rgb_stream.stop()\n",
    "depth_stream.stop()\n",
    "openni2.unload()\n",
    "print (\"Terminated\")"
   ]
  },
  {
   "cell_type": "code",
   "execution_count": null,
   "metadata": {},
   "outputs": [],
   "source": []
  }
 ],
 "metadata": {
  "kernelspec": {
   "display_name": "Python 3",
   "language": "python",
   "name": "python3"
  },
  "language_info": {
   "codemirror_mode": {
    "name": "ipython",
    "version": 3
   },
   "file_extension": ".py",
   "mimetype": "text/x-python",
   "name": "python",
   "nbconvert_exporter": "python",
   "pygments_lexer": "ipython3",
   "version": "3.5.2"
  }
 },
 "nbformat": 4,
 "nbformat_minor": 2
}
