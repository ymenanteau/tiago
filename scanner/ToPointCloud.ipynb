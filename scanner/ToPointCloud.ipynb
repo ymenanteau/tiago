{
 "cells": [
  {
   "cell_type": "code",
   "execution_count": 13,
   "metadata": {},
   "outputs": [],
   "source": [
    "from open3d import *\n",
    "import numpy as np\n",
    "import re\n",
    "import matplotlib.image as mpimg\n",
    "import matplotlib.pyplot as plt\n",
    "from scipy.sparse import csr_matrix\n",
    "from PIL import Image"
   ]
  },
  {
   "cell_type": "code",
   "execution_count": 14,
   "metadata": {},
   "outputs": [],
   "source": [
    "focalLengthX = 509.9149156563371\n",
    "focalLengthY = 507.9923678046019\n",
    "centerX = 336.435697832244\n",
    "centerY = 245.4809047393366\n",
    "scalingFactor = 0.0012\n",
    "\n",
    "\"\"\"\n",
    "[509.9149156563371, 0, 336.435697832244;\n",
    "0, 507.9923678046019, 245.4809047393366;\n",
    "0, 0, 1]\n",
    "\"\"\"\n",
    "\n",
    "\"\"\"\n",
    "focalLengthX = 1076.74064739\n",
    "focalLengthY = 1075.17825536\n",
    "centerX = 366.98264967\n",
    "centerY = 271.59181836\n",
    "scalingFactor = 0.1\n",
    "\"\"\"\n",
    "def generate_pointcloud(rgb_file,depth_file,ply_file):\n",
    "    \"\"\"\n",
    "    Generate a colored point cloud in PLY format from a color and a depth image.\n",
    "    \n",
    "    Input:\n",
    "    rgb_file -- filename of color image\n",
    "    depth_file -- filename of depth image\n",
    "    ply_file -- filename of ply file\n",
    "    \n",
    "    \"\"\"\n",
    "    rgb = Image.open(rgb_file)\n",
    "    depth = Image.open(depth_file)\n",
    "    \n",
    "    if rgb.size != depth.size:\n",
    "        raise Exception(\"Color and depth image do not have the same resolution.\")\n",
    "    if rgb.mode != \"RGB\":\n",
    "        raise Exception(\"Color image is not in RGB format\")\n",
    "    if depth.mode != \"I\":\n",
    "        raise Exception(\"Depth image is not in intensity format\")\n",
    "\n",
    "\n",
    "    points = []    \n",
    "    for v in range(rgb.size[1]):\n",
    "        for u in range(rgb.size[0]):\n",
    "            color = rgb.getpixel((u,v))\n",
    "            Z = depth.getpixel((u,v)) * scalingFactor\n",
    "            if Z==0: continue\n",
    "            X = (u - centerX) * Z / focalLengthX\n",
    "            Y = (v - centerY) * Z / focalLengthY\n",
    "            points.append(\"%f %f %f %d %d %d 0\\n\"%(X,Y,Z,color[0],color[1],color[2]))\n",
    "    file = open(ply_file,\"w\")\n",
    "    file.write('''ply\n",
    "format ascii 1.0\n",
    "element vertex %d\n",
    "property float x\n",
    "property float y\n",
    "property float z\n",
    "property uchar red\n",
    "property uchar green\n",
    "property uchar blue\n",
    "property uchar alpha\n",
    "end_header\n",
    "%s\n",
    "'''%(len(points),\"\".join(points)))\n",
    "    file.close()\n"
   ]
  },
  {
   "cell_type": "code",
   "execution_count": 15,
   "metadata": {},
   "outputs": [],
   "source": [
    "color_raw_path = \"save_files/scene/rgb/rgb_1.png\"\n",
    "depth_raw_path = \"save_files/scene/depth/depth_1.png\"\n",
    "\n",
    "generate_pointcloud(color_raw_path,depth_raw_path,\"test1.ply\")"
   ]
  },
  {
   "cell_type": "code",
   "execution_count": 16,
   "metadata": {},
   "outputs": [],
   "source": [
    "pcd = read_point_cloud(\"scene_6.ply\")\n",
    "draw_geometries([pcd])"
   ]
  },
  {
   "cell_type": "code",
   "execution_count": 12,
   "metadata": {},
   "outputs": [],
   "source": [
    "import glob\n",
    "import re\n",
    "\n",
    "def atoi(text):\n",
    "    return int(text) if text.isdigit() else text\n",
    "\n",
    "def natural_keys(text):\n",
    "    '''\n",
    "    alist.sort(key=natural_keys) sorts in human order\n",
    "    '''\n",
    "    return [ atoi(c) for c in re.split('(\\d+)', text) ]\n",
    "\n",
    "rgd_list = glob.glob('save_files/rgb/*.png')\n",
    "rgd_list.sort(key=natural_keys) \n",
    "\n",
    "depth_list =glob.glob('save_files/depth/*.png')\n",
    "depth_list.sort(key=natural_keys) "
   ]
  },
  {
   "cell_type": "code",
   "execution_count": 7,
   "metadata": {},
   "outputs": [],
   "source": [
    "import os, sys\n",
    " \n",
    "header = \"# .PCD v.7 - Point Cloud Data file format\\n\\\n",
    "FIELDS x y z\\n\\\n",
    "SIZE 4 4 4\\n\\\n",
    "TYPE F F F\\n\\\n",
    "COUNT 1 1 1\\n\\\n",
    "WIDTH XXXX\\n\\\n",
    "HEIGHT 1\\n\\\n",
    "VIEWPOINT 0 0 0 1 0 0 0\\n\\\n",
    "POINTS XXXX\\n\\\n",
    "DATA ascii\"\n",
    "\n",
    "def convertPLYToPCD(mesh_file, pcd_file):\n",
    "    input = open(mesh_file)\n",
    "    out = pcd_file\n",
    "    output = open(out, 'w')\n",
    "    write_points = False\n",
    "    points_counter = 0\n",
    "    nr_points = 0\n",
    "    for s in input.readlines():\n",
    "        if s.find(\"element vertex\") != -1:\n",
    "            nr_points = int(s.split(\" \")[2].rstrip().lstrip())\n",
    "            new_header = header.replace(\"XXXX\", str(nr_points))\n",
    "            output.write(new_header)\n",
    "            output.write(\"\\n\")\n",
    "        if s.find(\"end_header\") != -1:\n",
    "            write_points = True\n",
    "            continue\n",
    "        if write_points and points_counter < nr_points:\n",
    "            points_counter = points_counter + 1\n",
    "            output.write(\" \".join(s.split(\" \", 3)[:3]))\n",
    "            #output.write(\"\\n\")\n",
    "    input.close()\n",
    "    output.close()"
   ]
  },
  {
   "cell_type": "code",
   "execution_count": 46,
   "metadata": {},
   "outputs": [
    {
     "ename": "FileNotFoundError",
     "evalue": "[Errno 2] No such file or directory: 'save_files/rgb/rgb_11.png'",
     "output_type": "error",
     "traceback": [
      "\u001b[0;31m---------------------------------------------------------------------------\u001b[0m",
      "\u001b[0;31mFileNotFoundError\u001b[0m                         Traceback (most recent call last)",
      "\u001b[0;32m<ipython-input-46-1ba8a16652b1>\u001b[0m in \u001b[0;36m<module>\u001b[0;34m\u001b[0m\n\u001b[1;32m      3\u001b[0m     \u001b[0mname_ply\u001b[0m \u001b[0;34m=\u001b[0m \u001b[0;34m\"save_files/point_cloud/ply/pc_\"\u001b[0m \u001b[0;34m+\u001b[0m \u001b[0mstr\u001b[0m\u001b[0;34m(\u001b[0m\u001b[0mi\u001b[0m\u001b[0;34m)\u001b[0m \u001b[0;34m+\u001b[0m \u001b[0;34m\".ply\"\u001b[0m\u001b[0;34m\u001b[0m\u001b[0m\n\u001b[1;32m      4\u001b[0m     \u001b[0mname_pcd\u001b[0m \u001b[0;34m=\u001b[0m \u001b[0;34m\"save_files/point_cloud/pcd/pc_\"\u001b[0m \u001b[0;34m+\u001b[0m \u001b[0mstr\u001b[0m\u001b[0;34m(\u001b[0m\u001b[0mi\u001b[0m\u001b[0;34m)\u001b[0m \u001b[0;34m+\u001b[0m \u001b[0;34m\".pcd\"\u001b[0m\u001b[0;34m\u001b[0m\u001b[0m\n\u001b[0;32m----> 5\u001b[0;31m     \u001b[0mgenerate_pointcloud\u001b[0m\u001b[0;34m(\u001b[0m\u001b[0mcolor_raw_path\u001b[0m\u001b[0;34m,\u001b[0m\u001b[0mdepth_raw_path\u001b[0m\u001b[0;34m,\u001b[0m\u001b[0mname_ply\u001b[0m\u001b[0;34m)\u001b[0m\u001b[0;34m\u001b[0m\u001b[0m\n\u001b[0m\u001b[1;32m      6\u001b[0m     \u001b[0mconvertPLYToPCD\u001b[0m\u001b[0;34m(\u001b[0m\u001b[0mname_ply\u001b[0m\u001b[0;34m,\u001b[0m \u001b[0mname_pcd\u001b[0m\u001b[0;34m)\u001b[0m\u001b[0;34m\u001b[0m\u001b[0m\n\u001b[1;32m      7\u001b[0m     \u001b[0;31m#pcd = read_point_cloud(name_ply)\u001b[0m\u001b[0;34m\u001b[0m\u001b[0;34m\u001b[0m\u001b[0m\n",
      "\u001b[0;32m<ipython-input-18-8fec8142a4cd>\u001b[0m in \u001b[0;36mgenerate_pointcloud\u001b[0;34m(rgb_file, depth_file, ply_file)\u001b[0m\n\u001b[1;32m     34\u001b[0m \u001b[0;34m\u001b[0m\u001b[0m\n\u001b[1;32m     35\u001b[0m     \"\"\"\n\u001b[0;32m---> 36\u001b[0;31m     \u001b[0mrgb\u001b[0m \u001b[0;34m=\u001b[0m \u001b[0mImage\u001b[0m\u001b[0;34m.\u001b[0m\u001b[0mopen\u001b[0m\u001b[0;34m(\u001b[0m\u001b[0mrgb_file\u001b[0m\u001b[0;34m)\u001b[0m\u001b[0;34m\u001b[0m\u001b[0m\n\u001b[0m\u001b[1;32m     37\u001b[0m     \u001b[0mdepth\u001b[0m \u001b[0;34m=\u001b[0m \u001b[0mImage\u001b[0m\u001b[0;34m.\u001b[0m\u001b[0mopen\u001b[0m\u001b[0;34m(\u001b[0m\u001b[0mdepth_file\u001b[0m\u001b[0;34m)\u001b[0m\u001b[0;34m\u001b[0m\u001b[0m\n\u001b[1;32m     38\u001b[0m \u001b[0;34m\u001b[0m\u001b[0m\n",
      "\u001b[0;32m~/.local/lib/python3.5/site-packages/PIL/Image.py\u001b[0m in \u001b[0;36mopen\u001b[0;34m(fp, mode)\u001b[0m\n\u001b[1;32m   2607\u001b[0m \u001b[0;34m\u001b[0m\u001b[0m\n\u001b[1;32m   2608\u001b[0m     \u001b[0;32mif\u001b[0m \u001b[0mfilename\u001b[0m\u001b[0;34m:\u001b[0m\u001b[0;34m\u001b[0m\u001b[0m\n\u001b[0;32m-> 2609\u001b[0;31m         \u001b[0mfp\u001b[0m \u001b[0;34m=\u001b[0m \u001b[0mbuiltins\u001b[0m\u001b[0;34m.\u001b[0m\u001b[0mopen\u001b[0m\u001b[0;34m(\u001b[0m\u001b[0mfilename\u001b[0m\u001b[0;34m,\u001b[0m \u001b[0;34m\"rb\"\u001b[0m\u001b[0;34m)\u001b[0m\u001b[0;34m\u001b[0m\u001b[0m\n\u001b[0m\u001b[1;32m   2610\u001b[0m         \u001b[0mexclusive_fp\u001b[0m \u001b[0;34m=\u001b[0m \u001b[0;32mTrue\u001b[0m\u001b[0;34m\u001b[0m\u001b[0m\n\u001b[1;32m   2611\u001b[0m \u001b[0;34m\u001b[0m\u001b[0m\n",
      "\u001b[0;31mFileNotFoundError\u001b[0m: [Errno 2] No such file or directory: 'save_files/rgb/rgb_11.png'"
     ]
    }
   ],
   "source": [
    "i=0\n",
    "for color_raw_path,depth_raw_path in zip(rgd_list,depth_list):\n",
    "    name_ply = \"save_files/point_cloud/ply/pc_\" + str(i) + \".ply\"\n",
    "    name_pcd = \"save_files/point_cloud/pcd/pc_\" + str(i) + \".pcd\"\n",
    "    generate_pointcloud(color_raw_path,depth_raw_path,name_ply)\n",
    "    convertPLYToPCD(name_ply, name_pcd)\n",
    "    #pcd = read_point_cloud(name_ply)\n",
    "    #draw_geometries([pcd])\n",
    "    i+=1"
   ]
  },
  {
   "cell_type": "code",
   "execution_count": null,
   "metadata": {},
   "outputs": [],
   "source": []
  }
 ],
 "metadata": {
  "kernelspec": {
   "display_name": "Python 3",
   "language": "python",
   "name": "python3"
  },
  "language_info": {
   "codemirror_mode": {
    "name": "ipython",
    "version": 3
   },
   "file_extension": ".py",
   "mimetype": "text/x-python",
   "name": "python",
   "nbconvert_exporter": "python",
   "pygments_lexer": "ipython3",
   "version": "3.5.2"
  }
 },
 "nbformat": 4,
 "nbformat_minor": 2
}
